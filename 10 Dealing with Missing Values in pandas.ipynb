{
 "cells": [
  {
   "cell_type": "markdown",
   "metadata": {},
   "source": [
    "creating a Data Frame with some missing Values"
   ]
  },
  {
   "cell_type": "code",
   "execution_count": 5,
   "metadata": {},
   "outputs": [
    {
     "data": {
      "text/html": [
       "<div>\n",
       "<style scoped>\n",
       "    .dataframe tbody tr th:only-of-type {\n",
       "        vertical-align: middle;\n",
       "    }\n",
       "\n",
       "    .dataframe tbody tr th {\n",
       "        vertical-align: top;\n",
       "    }\n",
       "\n",
       "    .dataframe thead th {\n",
       "        text-align: right;\n",
       "    }\n",
       "</style>\n",
       "<table border=\"1\" class=\"dataframe\">\n",
       "  <thead>\n",
       "    <tr style=\"text-align: right;\">\n",
       "      <th></th>\n",
       "      <th>C1</th>\n",
       "      <th>C5</th>\n",
       "      <th>C3</th>\n",
       "      <th>C6</th>\n",
       "      <th>C2</th>\n",
       "    </tr>\n",
       "  </thead>\n",
       "  <tbody>\n",
       "    <tr>\n",
       "      <th>a</th>\n",
       "      <td>0.422007</td>\n",
       "      <td>-1.063684</td>\n",
       "      <td>0.835725</td>\n",
       "      <td>NaN</td>\n",
       "      <td>-2.336654</td>\n",
       "    </tr>\n",
       "    <tr>\n",
       "      <th>b</th>\n",
       "      <td>-0.740645</td>\n",
       "      <td>0.024241</td>\n",
       "      <td>-0.716799</td>\n",
       "      <td>NaN</td>\n",
       "      <td>0.015863</td>\n",
       "    </tr>\n",
       "    <tr>\n",
       "      <th>c</th>\n",
       "      <td>0.638328</td>\n",
       "      <td>NaN</td>\n",
       "      <td>-0.314573</td>\n",
       "      <td>NaN</td>\n",
       "      <td>NaN</td>\n",
       "    </tr>\n",
       "    <tr>\n",
       "      <th>d</th>\n",
       "      <td>NaN</td>\n",
       "      <td>NaN</td>\n",
       "      <td>NaN</td>\n",
       "      <td>NaN</td>\n",
       "      <td>NaN</td>\n",
       "    </tr>\n",
       "    <tr>\n",
       "      <th>e</th>\n",
       "      <td>-0.973214</td>\n",
       "      <td>0.560639</td>\n",
       "      <td>0.049234</td>\n",
       "      <td>NaN</td>\n",
       "      <td>-0.851945</td>\n",
       "    </tr>\n",
       "    <tr>\n",
       "      <th>f</th>\n",
       "      <td>NaN</td>\n",
       "      <td>NaN</td>\n",
       "      <td>NaN</td>\n",
       "      <td>NaN</td>\n",
       "      <td>NaN</td>\n",
       "    </tr>\n",
       "    <tr>\n",
       "      <th>g</th>\n",
       "      <td>-0.683005</td>\n",
       "      <td>0.314862</td>\n",
       "      <td>-0.853087</td>\n",
       "      <td>NaN</td>\n",
       "      <td>-0.320309</td>\n",
       "    </tr>\n",
       "    <tr>\n",
       "      <th>h</th>\n",
       "      <td>0.922434</td>\n",
       "      <td>0.653725</td>\n",
       "      <td>0.038265</td>\n",
       "      <td>NaN</td>\n",
       "      <td>-0.949317</td>\n",
       "    </tr>\n",
       "  </tbody>\n",
       "</table>\n",
       "</div>"
      ],
      "text/plain": [
       "         C1        C5        C3  C6        C2\n",
       "a  0.422007 -1.063684  0.835725 NaN -2.336654\n",
       "b -0.740645  0.024241 -0.716799 NaN  0.015863\n",
       "c  0.638328       NaN -0.314573 NaN       NaN\n",
       "d       NaN       NaN       NaN NaN       NaN\n",
       "e -0.973214  0.560639  0.049234 NaN -0.851945\n",
       "f       NaN       NaN       NaN NaN       NaN\n",
       "g -0.683005  0.314862 -0.853087 NaN -0.320309\n",
       "h  0.922434  0.653725  0.038265 NaN -0.949317"
      ]
     },
     "execution_count": 5,
     "metadata": {},
     "output_type": "execute_result"
    }
   ],
   "source": [
    "import pandas as pd\n",
    "import numpy as np\n",
    "df = pd.DataFrame(\n",
    "        np.random.randn(8, 5),\n",
    "        index=[\"a\", \"b\", \"c\", \"g\", \"e\",\"h\",\"l\",\"v\"],\n",
    "        columns=[\"C1\", \"C2\", \"C3\",\"C4\",\"C5\"],)\n",
    "df\n",
    "missing_df2 = df.reindex(index=[\"a\", \"b\", \"c\", \"d\", \"e\", \"f\", \"g\", \"h\"],columns=[\"C1\", \"C5\", \"C3\",\"C6\",\"C2\"])\n",
    "missing_df2.loc[2:4,'C5']=None\n",
    "missing_df2.loc[2:4,'C2']=np.nan\n",
    "missing_df2"
   ]
  },
  {
   "cell_type": "code",
   "execution_count": null,
   "metadata": {},
   "outputs": [],
   "source": []
  },
  {
   "cell_type": "code",
   "execution_count": null,
   "metadata": {},
   "outputs": [],
   "source": [
    "missing_df2.isna()"
   ]
  },
  {
   "cell_type": "code",
   "execution_count": null,
   "metadata": {},
   "outputs": [],
   "source": [
    "missing_df2['C5'].isna()"
   ]
  },
  {
   "cell_type": "code",
   "execution_count": null,
   "metadata": {},
   "outputs": [],
   "source": [
    "missing_df2['C6'].isna()"
   ]
  },
  {
   "cell_type": "code",
   "execution_count": null,
   "metadata": {},
   "outputs": [],
   "source": [
    "missing_df2.notna()"
   ]
  },
  {
   "cell_type": "code",
   "execution_count": null,
   "metadata": {},
   "outputs": [],
   "source": [
    "missing_df2.sum(skipna=True)"
   ]
  },
  {
   "cell_type": "code",
   "execution_count": null,
   "metadata": {},
   "outputs": [],
   "source": [
    "missing_df2['C6'].fillna('Missing',inplace=True)\n",
    "missing_df2"
   ]
  },
  {
   "cell_type": "code",
   "execution_count": null,
   "metadata": {},
   "outputs": [],
   "source": [
    "missing_df2.fillna(missing_df2.mean(),inplace=True)"
   ]
  },
  {
   "cell_type": "code",
   "execution_count": null,
   "metadata": {},
   "outputs": [],
   "source": [
    "missing_df2.fillna(missing_df2.median())"
   ]
  },
  {
   "cell_type": "code",
   "execution_count": null,
   "metadata": {},
   "outputs": [],
   "source": [
    "missing_df2.fillna(missing_df2.mode())"
   ]
  },
  {
   "cell_type": "code",
   "execution_count": null,
   "metadata": {},
   "outputs": [],
   "source": [
    "missing_df2.fillna(missing_df2.max())"
   ]
  },
  {
   "cell_type": "code",
   "execution_count": null,
   "metadata": {},
   "outputs": [],
   "source": [
    "missing_df2.fillna(missing_df2.min())"
   ]
  },
  {
   "cell_type": "markdown",
   "metadata": {},
   "source": [
    "Filling with a PandasObject"
   ]
  },
  {
   "cell_type": "code",
   "execution_count": null,
   "metadata": {},
   "outputs": [],
   "source": [
    "missing_df2['C5'].fillna(missing_df2['C5'].mean())"
   ]
  },
  {
   "cell_type": "code",
   "execution_count": 8,
   "metadata": {},
   "outputs": [
    {
     "data": {
      "text/html": [
       "<div>\n",
       "<style scoped>\n",
       "    .dataframe tbody tr th:only-of-type {\n",
       "        vertical-align: middle;\n",
       "    }\n",
       "\n",
       "    .dataframe tbody tr th {\n",
       "        vertical-align: top;\n",
       "    }\n",
       "\n",
       "    .dataframe thead th {\n",
       "        text-align: right;\n",
       "    }\n",
       "</style>\n",
       "<table border=\"1\" class=\"dataframe\">\n",
       "  <thead>\n",
       "    <tr style=\"text-align: right;\">\n",
       "      <th></th>\n",
       "      <th>C1</th>\n",
       "      <th>C5</th>\n",
       "      <th>C3</th>\n",
       "      <th>C6</th>\n",
       "      <th>C2</th>\n",
       "    </tr>\n",
       "  </thead>\n",
       "  <tbody>\n",
       "    <tr>\n",
       "      <th>a</th>\n",
       "      <td>0.422007</td>\n",
       "      <td>-1.063684</td>\n",
       "      <td>0.835725</td>\n",
       "      <td>NaN</td>\n",
       "      <td>-2.336654</td>\n",
       "    </tr>\n",
       "    <tr>\n",
       "      <th>b</th>\n",
       "      <td>-0.740645</td>\n",
       "      <td>0.024241</td>\n",
       "      <td>-0.716799</td>\n",
       "      <td>NaN</td>\n",
       "      <td>0.015863</td>\n",
       "    </tr>\n",
       "    <tr>\n",
       "      <th>c</th>\n",
       "      <td>0.638328</td>\n",
       "      <td>0.097957</td>\n",
       "      <td>-0.314573</td>\n",
       "      <td>NaN</td>\n",
       "      <td>NaN</td>\n",
       "    </tr>\n",
       "    <tr>\n",
       "      <th>d</th>\n",
       "      <td>-0.069016</td>\n",
       "      <td>0.097957</td>\n",
       "      <td>-0.160206</td>\n",
       "      <td>NaN</td>\n",
       "      <td>NaN</td>\n",
       "    </tr>\n",
       "    <tr>\n",
       "      <th>e</th>\n",
       "      <td>-0.973214</td>\n",
       "      <td>0.560639</td>\n",
       "      <td>0.049234</td>\n",
       "      <td>NaN</td>\n",
       "      <td>-0.851945</td>\n",
       "    </tr>\n",
       "    <tr>\n",
       "      <th>f</th>\n",
       "      <td>-0.069016</td>\n",
       "      <td>0.097957</td>\n",
       "      <td>-0.160206</td>\n",
       "      <td>NaN</td>\n",
       "      <td>NaN</td>\n",
       "    </tr>\n",
       "    <tr>\n",
       "      <th>g</th>\n",
       "      <td>-0.683005</td>\n",
       "      <td>0.314862</td>\n",
       "      <td>-0.853087</td>\n",
       "      <td>NaN</td>\n",
       "      <td>-0.320309</td>\n",
       "    </tr>\n",
       "    <tr>\n",
       "      <th>h</th>\n",
       "      <td>0.922434</td>\n",
       "      <td>0.653725</td>\n",
       "      <td>0.038265</td>\n",
       "      <td>NaN</td>\n",
       "      <td>-0.949317</td>\n",
       "    </tr>\n",
       "  </tbody>\n",
       "</table>\n",
       "</div>"
      ],
      "text/plain": [
       "         C1        C5        C3  C6        C2\n",
       "a  0.422007 -1.063684  0.835725 NaN -2.336654\n",
       "b -0.740645  0.024241 -0.716799 NaN  0.015863\n",
       "c  0.638328  0.097957 -0.314573 NaN       NaN\n",
       "d -0.069016  0.097957 -0.160206 NaN       NaN\n",
       "e -0.973214  0.560639  0.049234 NaN -0.851945\n",
       "f -0.069016  0.097957 -0.160206 NaN       NaN\n",
       "g -0.683005  0.314862 -0.853087 NaN -0.320309\n",
       "h  0.922434  0.653725  0.038265 NaN -0.949317"
      ]
     },
     "execution_count": 8,
     "metadata": {},
     "output_type": "execute_result"
    }
   ],
   "source": [
    "missing_df2.fillna(missing_df2.mean()['C1':'C3'],inplace=True)\n",
    "missing_df2"
   ]
  },
  {
   "cell_type": "code",
   "execution_count": null,
   "metadata": {},
   "outputs": [],
   "source": [
    "missing_df2.where(pd.notna(missing_df2), missing_df2.mean(), axis=\"columns\")"
   ]
  },
  {
   "cell_type": "markdown",
   "metadata": {},
   "source": [
    "Dropping axis labels with missing data: dropna"
   ]
  },
  {
   "cell_type": "code",
   "execution_count": null,
   "metadata": {},
   "outputs": [],
   "source": [
    "missing_df2.dropna(axis=1)"
   ]
  },
  {
   "cell_type": "markdown",
   "metadata": {},
   "source": [
    "Interpolation-performs linear interpolation at missing data points."
   ]
  },
  {
   "cell_type": "code",
   "execution_count": 2,
   "metadata": {},
   "outputs": [
    {
     "data": {
      "text/plain": [
       "C1    6\n",
       "C5    5\n",
       "C3    6\n",
       "C6    0\n",
       "C2    5\n",
       "dtype: int64"
      ]
     },
     "execution_count": 2,
     "metadata": {},
     "output_type": "execute_result"
    }
   ],
   "source": [
    "missing_df2.count()"
   ]
  },
  {
   "cell_type": "code",
   "execution_count": 4,
   "metadata": {},
   "outputs": [
    {
     "data": {
      "text/plain": [
       "<matplotlib.axes._subplots.AxesSubplot at 0x200af5d27c8>"
      ]
     },
     "execution_count": 4,
     "metadata": {},
     "output_type": "execute_result"
    },
    {
     "data": {
      "image/png": "[encoded data removed]",
      "text/plain": [
       "<Figure size 432x288 with 1 Axes>"
      ]
     },
     "metadata": {
      "needs_background": "light"
     },
     "output_type": "display_data"
    }
   ],
   "source": [
    "missing_df2.plot()"
   ]
  },
  {
   "cell_type": "code",
   "execution_count": null,
   "metadata": {},
   "outputs": [],
   "source": [
    "Pandas dataframe.interpolate() function is basically used to fill NA values in the dataframe or series. But, \n",
    "this is a very powerful function to fill the missing values. It uses various interpolation technique to fill \n",
    "the missing values rather than hard-coding the value."
   ]
  },
  {
   "cell_type": "code",
   "execution_count": 3,
   "metadata": {},
   "outputs": [
    {
     "data": {
      "text/html": [
       "<div>\n",
       "<style scoped>\n",
       "    .dataframe tbody tr th:only-of-type {\n",
       "        vertical-align: middle;\n",
       "    }\n",
       "\n",
       "    .dataframe tbody tr th {\n",
       "        vertical-align: top;\n",
       "    }\n",
       "\n",
       "    .dataframe thead th {\n",
       "        text-align: right;\n",
       "    }\n",
       "</style>\n",
       "<table border=\"1\" class=\"dataframe\">\n",
       "  <thead>\n",
       "    <tr style=\"text-align: right;\">\n",
       "      <th></th>\n",
       "      <th>C1</th>\n",
       "      <th>C5</th>\n",
       "      <th>C3</th>\n",
       "      <th>C6</th>\n",
       "      <th>C2</th>\n",
       "    </tr>\n",
       "  </thead>\n",
       "  <tbody>\n",
       "    <tr>\n",
       "      <th>a</th>\n",
       "      <td>-0.215671</td>\n",
       "      <td>-1.490934</td>\n",
       "      <td>0.665117</td>\n",
       "      <td>NaN</td>\n",
       "      <td>0.484943</td>\n",
       "    </tr>\n",
       "    <tr>\n",
       "      <th>b</th>\n",
       "      <td>0.767579</td>\n",
       "      <td>-0.197437</td>\n",
       "      <td>-0.132272</td>\n",
       "      <td>NaN</td>\n",
       "      <td>0.347704</td>\n",
       "    </tr>\n",
       "    <tr>\n",
       "      <th>c</th>\n",
       "      <td>0.337126</td>\n",
       "      <td>0.058540</td>\n",
       "      <td>-0.407346</td>\n",
       "      <td>NaN</td>\n",
       "      <td>0.415678</td>\n",
       "    </tr>\n",
       "    <tr>\n",
       "      <th>d</th>\n",
       "      <td>-0.107535</td>\n",
       "      <td>0.314518</td>\n",
       "      <td>0.005924</td>\n",
       "      <td>NaN</td>\n",
       "      <td>0.483652</td>\n",
       "    </tr>\n",
       "    <tr>\n",
       "      <th>e</th>\n",
       "      <td>-0.552197</td>\n",
       "      <td>0.570495</td>\n",
       "      <td>0.419193</td>\n",
       "      <td>NaN</td>\n",
       "      <td>0.551627</td>\n",
       "    </tr>\n",
       "    <tr>\n",
       "      <th>f</th>\n",
       "      <td>-0.665777</td>\n",
       "      <td>0.035160</td>\n",
       "      <td>0.558315</td>\n",
       "      <td>NaN</td>\n",
       "      <td>-0.728722</td>\n",
       "    </tr>\n",
       "    <tr>\n",
       "      <th>g</th>\n",
       "      <td>-0.779357</td>\n",
       "      <td>-0.500176</td>\n",
       "      <td>0.697436</td>\n",
       "      <td>NaN</td>\n",
       "      <td>-2.009071</td>\n",
       "    </tr>\n",
       "    <tr>\n",
       "      <th>h</th>\n",
       "      <td>0.126707</td>\n",
       "      <td>-1.731074</td>\n",
       "      <td>-0.432926</td>\n",
       "      <td>NaN</td>\n",
       "      <td>0.579192</td>\n",
       "    </tr>\n",
       "  </tbody>\n",
       "</table>\n",
       "</div>"
      ],
      "text/plain": [
       "         C1        C5        C3  C6        C2\n",
       "a -0.215671 -1.490934  0.665117 NaN  0.484943\n",
       "b  0.767579 -0.197437 -0.132272 NaN  0.347704\n",
       "c  0.337126  0.058540 -0.407346 NaN  0.415678\n",
       "d -0.107535  0.314518  0.005924 NaN  0.483652\n",
       "e -0.552197  0.570495  0.419193 NaN  0.551627\n",
       "f -0.665777  0.035160  0.558315 NaN -0.728722\n",
       "g -0.779357 -0.500176  0.697436 NaN -2.009071\n",
       "h  0.126707 -1.731074 -0.432926 NaN  0.579192"
      ]
     },
     "execution_count": 3,
     "metadata": {},
     "output_type": "execute_result"
    }
   ],
   "source": [
    "missing_df2.interpolate(method ='linear', limit_direction ='forward') "
   ]
  },
  {
   "cell_type": "code",
   "execution_count": 6,
   "metadata": {},
   "outputs": [
    {
     "data": {
      "text/html": [
       "<div>\n",
       "<style scoped>\n",
       "    .dataframe tbody tr th:only-of-type {\n",
       "        vertical-align: middle;\n",
       "    }\n",
       "\n",
       "    .dataframe tbody tr th {\n",
       "        vertical-align: top;\n",
       "    }\n",
       "\n",
       "    .dataframe thead th {\n",
       "        text-align: right;\n",
       "    }\n",
       "</style>\n",
       "<table border=\"1\" class=\"dataframe\">\n",
       "  <thead>\n",
       "    <tr style=\"text-align: right;\">\n",
       "      <th></th>\n",
       "      <th>C1</th>\n",
       "      <th>C5</th>\n",
       "      <th>C3</th>\n",
       "      <th>C6</th>\n",
       "      <th>C2</th>\n",
       "    </tr>\n",
       "  </thead>\n",
       "  <tbody>\n",
       "    <tr>\n",
       "      <th>a</th>\n",
       "      <td>0.422007</td>\n",
       "      <td>-1.063684</td>\n",
       "      <td>0.835725</td>\n",
       "      <td>NaN</td>\n",
       "      <td>-2.336654</td>\n",
       "    </tr>\n",
       "    <tr>\n",
       "      <th>b</th>\n",
       "      <td>-0.740645</td>\n",
       "      <td>0.024241</td>\n",
       "      <td>-0.716799</td>\n",
       "      <td>NaN</td>\n",
       "      <td>0.015863</td>\n",
       "    </tr>\n",
       "    <tr>\n",
       "      <th>c</th>\n",
       "      <td>0.638328</td>\n",
       "      <td>0.203040</td>\n",
       "      <td>-0.314573</td>\n",
       "      <td>NaN</td>\n",
       "      <td>-0.273406</td>\n",
       "    </tr>\n",
       "    <tr>\n",
       "      <th>d</th>\n",
       "      <td>-0.167443</td>\n",
       "      <td>0.381839</td>\n",
       "      <td>-0.132670</td>\n",
       "      <td>NaN</td>\n",
       "      <td>-0.562676</td>\n",
       "    </tr>\n",
       "    <tr>\n",
       "      <th>e</th>\n",
       "      <td>-0.973214</td>\n",
       "      <td>0.560639</td>\n",
       "      <td>0.049234</td>\n",
       "      <td>NaN</td>\n",
       "      <td>-0.851945</td>\n",
       "    </tr>\n",
       "    <tr>\n",
       "      <th>f</th>\n",
       "      <td>-0.828110</td>\n",
       "      <td>0.437750</td>\n",
       "      <td>-0.401927</td>\n",
       "      <td>NaN</td>\n",
       "      <td>-0.586127</td>\n",
       "    </tr>\n",
       "    <tr>\n",
       "      <th>g</th>\n",
       "      <td>-0.683005</td>\n",
       "      <td>0.314862</td>\n",
       "      <td>-0.853087</td>\n",
       "      <td>NaN</td>\n",
       "      <td>-0.320309</td>\n",
       "    </tr>\n",
       "    <tr>\n",
       "      <th>h</th>\n",
       "      <td>0.922434</td>\n",
       "      <td>0.653725</td>\n",
       "      <td>0.038265</td>\n",
       "      <td>NaN</td>\n",
       "      <td>-0.949317</td>\n",
       "    </tr>\n",
       "  </tbody>\n",
       "</table>\n",
       "</div>"
      ],
      "text/plain": [
       "         C1        C5        C3  C6        C2\n",
       "a  0.422007 -1.063684  0.835725 NaN -2.336654\n",
       "b -0.740645  0.024241 -0.716799 NaN  0.015863\n",
       "c  0.638328  0.203040 -0.314573 NaN -0.273406\n",
       "d -0.167443  0.381839 -0.132670 NaN -0.562676\n",
       "e -0.973214  0.560639  0.049234 NaN -0.851945\n",
       "f -0.828110  0.437750 -0.401927 NaN -0.586127\n",
       "g -0.683005  0.314862 -0.853087 NaN -0.320309\n",
       "h  0.922434  0.653725  0.038265 NaN -0.949317"
      ]
     },
     "execution_count": 6,
     "metadata": {},
     "output_type": "execute_result"
    }
   ],
   "source": [
    "missing_df2.interpolate(method ='linear', limit_direction ='backward') "
   ]
  },
  {
   "cell_type": "markdown",
   "metadata": {},
   "source": [
    "Replacing generic values"
   ]
  },
  {
   "cell_type": "code",
   "execution_count": 12,
   "metadata": {},
   "outputs": [
    {
     "data": {
      "text/html": [
       "<div>\n",
       "<style scoped>\n",
       "    .dataframe tbody tr th:only-of-type {\n",
       "        vertical-align: middle;\n",
       "    }\n",
       "\n",
       "    .dataframe tbody tr th {\n",
       "        vertical-align: top;\n",
       "    }\n",
       "\n",
       "    .dataframe thead th {\n",
       "        text-align: right;\n",
       "    }\n",
       "</style>\n",
       "<table border=\"1\" class=\"dataframe\">\n",
       "  <thead>\n",
       "    <tr style=\"text-align: right;\">\n",
       "      <th></th>\n",
       "      <th>C1</th>\n",
       "      <th>C5</th>\n",
       "      <th>C3</th>\n",
       "      <th>C6</th>\n",
       "      <th>C2</th>\n",
       "    </tr>\n",
       "  </thead>\n",
       "  <tbody>\n",
       "    <tr>\n",
       "      <th>a</th>\n",
       "      <td>0.422007</td>\n",
       "      <td>-1.063684</td>\n",
       "      <td>0.835725</td>\n",
       "      <td>NaN</td>\n",
       "      <td>-2.336654</td>\n",
       "    </tr>\n",
       "    <tr>\n",
       "      <th>b</th>\n",
       "      <td>-0.740645</td>\n",
       "      <td>0.024241</td>\n",
       "      <td>-0.716799</td>\n",
       "      <td>NaN</td>\n",
       "      <td>0.015863</td>\n",
       "    </tr>\n",
       "    <tr>\n",
       "      <th>c</th>\n",
       "      <td>0.638328</td>\n",
       "      <td>0.097957</td>\n",
       "      <td>-0.314573</td>\n",
       "      <td>NaN</td>\n",
       "      <td>NaN</td>\n",
       "    </tr>\n",
       "    <tr>\n",
       "      <th>d</th>\n",
       "      <td>-0.069016</td>\n",
       "      <td>0.097957</td>\n",
       "      <td>-0.160206</td>\n",
       "      <td>NaN</td>\n",
       "      <td>NaN</td>\n",
       "    </tr>\n",
       "    <tr>\n",
       "      <th>e</th>\n",
       "      <td>-0.973214</td>\n",
       "      <td>0.560639</td>\n",
       "      <td>0.049234</td>\n",
       "      <td>NaN</td>\n",
       "      <td>-0.851945</td>\n",
       "    </tr>\n",
       "    <tr>\n",
       "      <th>f</th>\n",
       "      <td>-0.069016</td>\n",
       "      <td>0.097957</td>\n",
       "      <td>-0.160206</td>\n",
       "      <td>NaN</td>\n",
       "      <td>NaN</td>\n",
       "    </tr>\n",
       "    <tr>\n",
       "      <th>g</th>\n",
       "      <td>-0.683005</td>\n",
       "      <td>0.314862</td>\n",
       "      <td>-0.853087</td>\n",
       "      <td>NaN</td>\n",
       "      <td>-0.320309</td>\n",
       "    </tr>\n",
       "    <tr>\n",
       "      <th>h</th>\n",
       "      <td>0.922434</td>\n",
       "      <td>0.653725</td>\n",
       "      <td>0.038265</td>\n",
       "      <td>NaN</td>\n",
       "      <td>-0.949317</td>\n",
       "    </tr>\n",
       "  </tbody>\n",
       "</table>\n",
       "</div>"
      ],
      "text/plain": [
       "         C1        C5        C3  C6        C2\n",
       "a  0.422007 -1.063684  0.835725 NaN -2.336654\n",
       "b -0.740645  0.024241 -0.716799 NaN  0.015863\n",
       "c  0.638328  0.097957 -0.314573 NaN       NaN\n",
       "d -0.069016  0.097957 -0.160206 NaN       NaN\n",
       "e -0.973214  0.560639  0.049234 NaN -0.851945\n",
       "f -0.069016  0.097957 -0.160206 NaN       NaN\n",
       "g -0.683005  0.314862 -0.853087 NaN -0.320309\n",
       "h  0.922434  0.653725  0.038265 NaN -0.949317"
      ]
     },
     "execution_count": 12,
     "metadata": {},
     "output_type": "execute_result"
    }
   ],
   "source": [
    "missing_df2['C5'].replace(0.024241,0.00,inplace=True)\n",
    "missing_df2"
   ]
  },
  {
   "cell_type": "code",
   "execution_count": null,
   "metadata": {},
   "outputs": [],
   "source": []
  }
 ],
 "metadata": {
  "kernelspec": {
   "display_name": "Python 3",
   "language": "python",
   "name": "python3"
  },
  "language_info": {
   "codemirror_mode": {
    "name": "ipython",
    "version": 3
   },
   "file_extension": ".py",
   "mimetype": "text/x-python",
   "name": "python",
   "nbconvert_exporter": "python",
   "pygments_lexer": "ipython3",
   "version": "3.7.6"
  }
 },
 "nbformat": 4,
 "nbformat_minor": 4
}
